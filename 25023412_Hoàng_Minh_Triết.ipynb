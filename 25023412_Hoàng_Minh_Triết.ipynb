{
  "nbformat": 4,
  "nbformat_minor": 0,
  "metadata": {
    "colab": {
      "provenance": []
    },
    "kernelspec": {
      "name": "python3",
      "display_name": "Python 3"
    },
    "language_info": {
      "name": "python"
    }
  },
  "cells": [
    {
      "cell_type": "markdown",
      "source": [
        "W3A4"
      ],
      "metadata": {
        "id": "PW5bM1U6lVSu"
      }
    },
    {
      "cell_type": "code",
      "source": [
        "m = int(input(\"m = \"))\n",
        "n = int(input(\"n = \"))\n",
        "print(m // n)\n"
      ],
      "metadata": {
        "id": "Y0hTCStwlYr0"
      },
      "execution_count": null,
      "outputs": []
    },
    {
      "cell_type": "markdown",
      "source": [
        "W3A5"
      ],
      "metadata": {
        "id": "n20DQEwKlhPc"
      }
    },
    {
      "cell_type": "code",
      "source": [
        "m = int(input(\"m = \"))\n",
        "n = int(input(\"n = \"))\n",
        "result = m // n\n",
        "if m % n != 0:\n",
        "    result += 1\n",
        "print(result)\n"
      ],
      "metadata": {
        "colab": {
          "base_uri": "https://localhost:8080/"
        },
        "id": "nVvLGQmPljfV",
        "outputId": "2838edf2-7546-4686-9cdc-e55d511873a3"
      },
      "execution_count": 3,
      "outputs": [
        {
          "output_type": "stream",
          "name": "stdout",
          "text": [
            "m = 7\n",
            "n = 7\n",
            "1\n"
          ]
        }
      ]
    },
    {
      "cell_type": "markdown",
      "source": [
        "W3A6"
      ],
      "metadata": {
        "id": "2b13PWiElqiE"
      }
    },
    {
      "cell_type": "code",
      "source": [
        "x = int(input())\n",
        "if x % 2 == 0:\n",
        "    print(\"Even\")\n",
        "else:\n",
        "    print(\"Odd\")\n"
      ],
      "metadata": {
        "id": "7YaIrm83lsrk"
      },
      "execution_count": null,
      "outputs": []
    },
    {
      "cell_type": "markdown",
      "source": [
        "W3A7"
      ],
      "metadata": {
        "id": "prDI0nvUlxKU"
      }
    },
    {
      "cell_type": "code",
      "source": [
        "a = int(input())\n",
        "b = int(input())\n",
        "if a < 0 and b < 0:\n",
        "    print(\"Yes\")\n",
        "else:\n",
        "    print(\"No\")\n"
      ],
      "metadata": {
        "id": "Pbi1q-GUl0_k"
      },
      "execution_count": null,
      "outputs": []
    },
    {
      "cell_type": "markdown",
      "source": [
        "W3A8"
      ],
      "metadata": {
        "id": "EyOwjEfBl358"
      }
    },
    {
      "cell_type": "code",
      "source": [
        "a = input()\n",
        "b = input()\n",
        "print(\"True\" if len(a) > len(b) else \"False\")\n"
      ],
      "metadata": {
        "id": "YrP6JQb_l59j"
      },
      "execution_count": null,
      "outputs": []
    },
    {
      "cell_type": "markdown",
      "source": [
        "W3A9"
      ],
      "metadata": {
        "id": "9e6aYTDvl9nr"
      }
    },
    {
      "cell_type": "code",
      "source": [
        "a = int(input())\n",
        "b = int(input())\n",
        "c = int(input())\n",
        "if a + b > c and a + c > b and b + c > a:\n",
        "    print(\"Yes\")\n",
        "else:\n",
        "    print(\"No\")\n"
      ],
      "metadata": {
        "id": "QpB0KK_zl_FD"
      },
      "execution_count": null,
      "outputs": []
    },
    {
      "cell_type": "markdown",
      "source": [
        "W3A10"
      ],
      "metadata": {
        "id": "KAu86v21mBvE"
      }
    },
    {
      "cell_type": "code",
      "source": [
        "nums = [int(input()) for _ in range(4)]\n",
        "print(max(nums))\n"
      ],
      "metadata": {
        "id": "rnv5dXdrmGSE"
      },
      "execution_count": null,
      "outputs": []
    },
    {
      "cell_type": "markdown",
      "source": [
        "W3A11"
      ],
      "metadata": {
        "id": "1mwtM4RVmIWz"
      }
    },
    {
      "cell_type": "code",
      "source": [
        "a = int(input())\n",
        "b = int(input())\n",
        "c = int(input())\n",
        "\n",
        "if a + b <= c or a + c <= b or b + c <= a:\n",
        "    print(\"Không phải tam giác\")\n",
        "elif a == b == c:\n",
        "    print(\"Tam giác đều\")\n",
        "elif a == b or a == c or b == c:\n",
        "    print(\"Tam giác cân\")\n",
        "else:\n",
        "    print(\"Tam giác thường\")\n"
      ],
      "metadata": {
        "id": "GNPOb7DjmJyz"
      },
      "execution_count": null,
      "outputs": []
    },
    {
      "cell_type": "markdown",
      "source": [
        "W3A12"
      ],
      "metadata": {
        "id": "RQM3su1WmMYt"
      }
    },
    {
      "cell_type": "code",
      "source": [
        "n = int(input(\"Năm = \"))\n",
        "if (n % 400 == 0) or (n % 4 == 0 and n % 100 != 0):\n",
        "    print(\"Yes\")\n",
        "else:\n",
        "    print(\"No\")\n"
      ],
      "metadata": {
        "id": "hC2C2iLvmOGL"
      },
      "execution_count": null,
      "outputs": []
    },
    {
      "cell_type": "markdown",
      "source": [
        "W3A14"
      ],
      "metadata": {
        "id": "9MxyShTamZVS"
      }
    },
    {
      "cell_type": "code",
      "source": [
        "a = float(input(\"a = \"))\n",
        "b = float(input(\"b = \"))\n",
        "\n",
        "if a == 0:\n",
        "    if b == 0:\n",
        "        print(\"Vô số nghiệm\")\n",
        "    else:\n",
        "        print(\"Vô nghiệm\")\n",
        "else:\n",
        "    x = -b / a\n",
        "    print(f\"{x:.2f}\")\n"
      ],
      "metadata": {
        "id": "Q0-IrEadmR9z"
      },
      "execution_count": null,
      "outputs": []
    },
    {
      "cell_type": "markdown",
      "source": [
        "W3A15"
      ],
      "metadata": {
        "id": "AVW_y2blmd-S"
      }
    },
    {
      "cell_type": "code",
      "source": [
        "score = float(input(\"Điểm = \"))\n",
        "if score >= 8.0:\n",
        "    print(\"Giỏi\")\n",
        "elif score >= 6.5:\n",
        "    print(\"Khá\")\n",
        "elif score >= 5.0:\n",
        "    print(\"Trung bình\")\n",
        "else:\n",
        "    print(\"Yếu\")\n"
      ],
      "metadata": {
        "id": "l8QNIXIXmiCS"
      },
      "execution_count": null,
      "outputs": []
    },
    {
      "cell_type": "markdown",
      "source": [
        "W3A16"
      ],
      "metadata": {
        "id": "sSopkogzmn5j"
      }
    },
    {
      "cell_type": "code",
      "source": [
        "x = float(input(\"Nhập x: \"))\n",
        "\n",
        "down = int(x)\n",
        "\n",
        "up = down if x == down else down + 1\n",
        "\n",
        "nearest = down + (1 if x - down >= 0.5 else 0)\n",
        "\n",
        "print(up, down, nearest)\n"
      ],
      "metadata": {
        "id": "4xuw8kKomp_C"
      },
      "execution_count": null,
      "outputs": []
    },
    {
      "cell_type": "markdown",
      "source": [
        "W3A17"
      ],
      "metadata": {
        "id": "33iD55Yqmw_d"
      }
    },
    {
      "cell_type": "code",
      "source": [
        "a = int(input())\n",
        "b = int(input())\n",
        "c = int(input())\n",
        "d = int(input())\n",
        "\n",
        "if b % a != 0:\n",
        "    print(\"No\")\n",
        "else:\n",
        "    q = b // a\n",
        "    if b * q == c and c * q == d:\n",
        "        print(\"Yes\")\n",
        "    else:\n",
        "        print(\"No\")\n"
      ],
      "metadata": {
        "colab": {
          "base_uri": "https://localhost:8080/"
        },
        "id": "RgIVCL92mzCS",
        "outputId": "1f90f2dd-81a1-4b4d-94e3-76d068f259f2"
      },
      "execution_count": 4,
      "outputs": [
        {
          "output_type": "stream",
          "name": "stdout",
          "text": [
            "6\n",
            "7\n",
            "8\n",
            "5\n",
            "No\n"
          ]
        }
      ]
    }
  ]
}