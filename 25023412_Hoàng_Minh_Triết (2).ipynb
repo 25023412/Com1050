{
  "nbformat": 4,
  "nbformat_minor": 0,
  "metadata": {
    "colab": {
      "provenance": []
    },
    "kernelspec": {
      "name": "python3",
      "display_name": "Python 3"
    },
    "language_info": {
      "name": "python"
    }
  },
  "cells": [
    {
      "cell_type": "markdown",
      "source": [
        "W3A2"
      ],
      "metadata": {
        "id": "cOoloeDbzAX6"
      }
    },
    {
      "cell_type": "code",
      "source": [
        "a = int(input(\"Nhập a: \"))\n",
        "b = int(input(\"Nhập b: \"))\n",
        "\n",
        "a = a ^ b\n",
        "b = a ^ b\n",
        "a = a ^ b\n",
        "\n",
        "print(\"Sau khi hoán đổi:\")\n",
        "print(\"a =\", a)\n",
        "print(\"b =\", b)\n"
      ],
      "metadata": {
        "colab": {
          "base_uri": "https://localhost:8080/"
        },
        "id": "6H6V7wjTzEAy",
        "outputId": "c9671385-fa61-43c3-d276-d88917ddf4e2"
      },
      "execution_count": 6,
      "outputs": [
        {
          "output_type": "stream",
          "name": "stdout",
          "text": [
            "Nhập a: 3\n",
            "Nhập b: 5\n",
            "Sau khi hoán đổi:\n",
            "a = 5\n",
            "b = 3\n"
          ]
        }
      ]
    },
    {
      "cell_type": "markdown",
      "source": [
        "w3A3"
      ],
      "metadata": {
        "id": "w14vdyvQypxL"
      }
    },
    {
      "cell_type": "code",
      "source": [
        "n = int(input(\"Nhập n: \"))\n",
        "if n > 0 and (n & (n - 1)) == 0:\n",
        "    print(\"Yes\")\n",
        "else:\n",
        "    print(\"No\")\n"
      ],
      "metadata": {
        "colab": {
          "base_uri": "https://localhost:8080/"
        },
        "id": "qherHuJRyvHB",
        "outputId": "5f8ee71f-708a-4924-900b-985cc5f65314"
      },
      "execution_count": 5,
      "outputs": [
        {
          "output_type": "stream",
          "name": "stdout",
          "text": [
            "Nhập n: 3\n",
            "No\n"
          ]
        }
      ]
    },
    {
      "cell_type": "markdown",
      "source": [
        "W3A4"
      ],
      "metadata": {
        "id": "PW5bM1U6lVSu"
      }
    },
    {
      "cell_type": "code",
      "source": [
        "m = int(input(\"m = \"))\n",
        "n = int(input(\"n = \"))\n",
        "print(m // n)\n"
      ],
      "metadata": {
        "colab": {
          "base_uri": "https://localhost:8080/"
        },
        "id": "Y0hTCStwlYr0",
        "outputId": "c97539ef-2293-4b9f-b12f-995ecacc70bd"
      },
      "execution_count": 7,
      "outputs": [
        {
          "output_type": "stream",
          "name": "stdout",
          "text": [
            "m = 4\n",
            "n = 2\n",
            "2\n"
          ]
        }
      ]
    },
    {
      "cell_type": "markdown",
      "source": [
        "W3A5"
      ],
      "metadata": {
        "id": "n20DQEwKlhPc"
      }
    },
    {
      "cell_type": "code",
      "source": [
        "m = int(input(\"m = \"))\n",
        "n = int(input(\"n = \"))\n",
        "result = m // n\n",
        "if m % n != 0:\n",
        "    result += 1\n",
        "print(result)\n"
      ],
      "metadata": {
        "colab": {
          "base_uri": "https://localhost:8080/"
        },
        "id": "nVvLGQmPljfV",
        "outputId": "2838edf2-7546-4686-9cdc-e55d511873a3"
      },
      "execution_count": 3,
      "outputs": [
        {
          "output_type": "stream",
          "name": "stdout",
          "text": [
            "m = 7\n",
            "n = 7\n",
            "1\n"
          ]
        }
      ]
    },
    {
      "cell_type": "markdown",
      "source": [
        "W3A6"
      ],
      "metadata": {
        "id": "2b13PWiElqiE"
      }
    },
    {
      "cell_type": "code",
      "source": [
        "x = int(input())\n",
        "if x % 2 == 0:\n",
        "    print(\"Even\")\n",
        "else:\n",
        "    print(\"Odd\")\n"
      ],
      "metadata": {
        "colab": {
          "base_uri": "https://localhost:8080/"
        },
        "id": "7YaIrm83lsrk",
        "outputId": "e708753d-2ac3-4121-a9ef-5d0800adc97f"
      },
      "execution_count": 8,
      "outputs": [
        {
          "output_type": "stream",
          "name": "stdout",
          "text": [
            "4\n",
            "Even\n"
          ]
        }
      ]
    },
    {
      "cell_type": "markdown",
      "source": [
        "W3A7"
      ],
      "metadata": {
        "id": "prDI0nvUlxKU"
      }
    },
    {
      "cell_type": "code",
      "source": [
        "a = int(input())\n",
        "b = int(input())\n",
        "if a < 0 and b < 0:\n",
        "    print(\"Yes\")\n",
        "else:\n",
        "    print(\"No\")\n"
      ],
      "metadata": {
        "colab": {
          "base_uri": "https://localhost:8080/"
        },
        "id": "Pbi1q-GUl0_k",
        "outputId": "b7226642-e7e8-466d-d177-55b0884ef0d0"
      },
      "execution_count": 9,
      "outputs": [
        {
          "output_type": "stream",
          "name": "stdout",
          "text": [
            "-3\n",
            "-7\n",
            "Yes\n"
          ]
        }
      ]
    },
    {
      "cell_type": "markdown",
      "source": [
        "W3A8"
      ],
      "metadata": {
        "id": "EyOwjEfBl358"
      }
    },
    {
      "cell_type": "code",
      "source": [
        "a = input()\n",
        "b = input()\n",
        "print(\"True\" if len(a) > len(b) else \"False\")\n"
      ],
      "metadata": {
        "colab": {
          "base_uri": "https://localhost:8080/"
        },
        "id": "YrP6JQb_l59j",
        "outputId": "4b9e7868-d439-4de8-a4c9-921bbb31cb3b"
      },
      "execution_count": 10,
      "outputs": [
        {
          "output_type": "stream",
          "name": "stdout",
          "text": [
            "7\n",
            "10\n",
            "False\n"
          ]
        }
      ]
    },
    {
      "cell_type": "markdown",
      "source": [
        "W3A9"
      ],
      "metadata": {
        "id": "9e6aYTDvl9nr"
      }
    },
    {
      "cell_type": "code",
      "source": [
        "a = int(input())\n",
        "b = int(input())\n",
        "c = int(input())\n",
        "if a + b > c and a + c > b and b + c > a:\n",
        "    print(\"Yes\")\n",
        "else:\n",
        "    print(\"No\")\n"
      ],
      "metadata": {
        "colab": {
          "base_uri": "https://localhost:8080/"
        },
        "id": "QpB0KK_zl_FD",
        "outputId": "d4c98a80-6f89-4be8-ae15-16a0a75a6dc4"
      },
      "execution_count": 11,
      "outputs": [
        {
          "output_type": "stream",
          "name": "stdout",
          "text": [
            "3\n",
            "4\n",
            "5\n",
            "Yes\n"
          ]
        }
      ]
    },
    {
      "cell_type": "markdown",
      "source": [
        "W3A10"
      ],
      "metadata": {
        "id": "KAu86v21mBvE"
      }
    },
    {
      "cell_type": "code",
      "source": [
        "nums = [int(input()) for _ in range(4)]\n",
        "print(max(nums))\n"
      ],
      "metadata": {
        "colab": {
          "base_uri": "https://localhost:8080/"
        },
        "id": "rnv5dXdrmGSE",
        "outputId": "39963d90-a876-4737-da6d-98bdaf58d9da"
      },
      "execution_count": 12,
      "outputs": [
        {
          "output_type": "stream",
          "name": "stdout",
          "text": [
            "5\n",
            "7\n",
            "10\n",
            "100\n",
            "100\n"
          ]
        }
      ]
    },
    {
      "cell_type": "markdown",
      "source": [
        "W3A11"
      ],
      "metadata": {
        "id": "1mwtM4RVmIWz"
      }
    },
    {
      "cell_type": "code",
      "source": [
        "a = int(input())\n",
        "b = int(input())\n",
        "c = int(input())\n",
        "\n",
        "if a + b <= c or a + c <= b or b + c <= a:\n",
        "    print(\"Không phải tam giác\")\n",
        "elif a == b == c:\n",
        "    print(\"Tam giác đều\")\n",
        "elif a == b or a == c or b == c:\n",
        "    print(\"Tam giác cân\")\n",
        "else:\n",
        "    print(\"Tam giác thường\")\n"
      ],
      "metadata": {
        "colab": {
          "base_uri": "https://localhost:8080/"
        },
        "id": "GNPOb7DjmJyz",
        "outputId": "2df81d49-68e2-4be3-de9c-207978ebaaf4"
      },
      "execution_count": 13,
      "outputs": [
        {
          "output_type": "stream",
          "name": "stdout",
          "text": [
            "3\n",
            "4\n",
            "6\n",
            "Tam giác thường\n"
          ]
        }
      ]
    },
    {
      "cell_type": "markdown",
      "source": [
        "W3A12"
      ],
      "metadata": {
        "id": "RQM3su1WmMYt"
      }
    },
    {
      "cell_type": "code",
      "source": [
        "n = int(input(\"Năm = \"))\n",
        "if (n % 400 == 0) or (n % 4 == 0 and n % 100 != 0):\n",
        "    print(\"Yes\")\n",
        "else:\n",
        "    print(\"No\")\n"
      ],
      "metadata": {
        "colab": {
          "base_uri": "https://localhost:8080/"
        },
        "id": "hC2C2iLvmOGL",
        "outputId": "a3127959-0ae7-43f3-c658-3f654d7c990b"
      },
      "execution_count": 14,
      "outputs": [
        {
          "output_type": "stream",
          "name": "stdout",
          "text": [
            "Năm = 1900\n",
            "No\n"
          ]
        }
      ]
    },
    {
      "cell_type": "markdown",
      "source": [
        "W3A14"
      ],
      "metadata": {
        "id": "9MxyShTamZVS"
      }
    },
    {
      "cell_type": "code",
      "source": [
        "a = float(input(\"a = \"))\n",
        "b = float(input(\"b = \"))\n",
        "\n",
        "if a == 0:\n",
        "    if b == 0:\n",
        "        print(\"Vô số nghiệm\")\n",
        "    else:\n",
        "        print(\"Vô nghiệm\")\n",
        "else:\n",
        "    x = -b / a\n",
        "    print(f\"{x:.2f}\")\n"
      ],
      "metadata": {
        "colab": {
          "base_uri": "https://localhost:8080/"
        },
        "id": "Q0-IrEadmR9z",
        "outputId": "686d52b6-f4e8-4a6e-c257-dbc464f72e02"
      },
      "execution_count": 15,
      "outputs": [
        {
          "output_type": "stream",
          "name": "stdout",
          "text": [
            "a = 4\n",
            "b = 7\n",
            "-1.75\n"
          ]
        }
      ]
    },
    {
      "cell_type": "markdown",
      "source": [
        "W3A15"
      ],
      "metadata": {
        "id": "AVW_y2blmd-S"
      }
    },
    {
      "cell_type": "code",
      "source": [
        "score = float(input(\"Điểm = \"))\n",
        "if score >= 8.0:\n",
        "    print(\"Giỏi\")\n",
        "elif score >= 6.5:\n",
        "    print(\"Khá\")\n",
        "elif score >= 5.0:\n",
        "    print(\"Trung bình\")\n",
        "else:\n",
        "    print(\"Yếu\")\n"
      ],
      "metadata": {
        "colab": {
          "base_uri": "https://localhost:8080/"
        },
        "id": "l8QNIXIXmiCS",
        "outputId": "8b94a4b7-3456-4c69-ac93-3051ae400cf9"
      },
      "execution_count": 16,
      "outputs": [
        {
          "output_type": "stream",
          "name": "stdout",
          "text": [
            "Điểm = 9\n",
            "Giỏi\n"
          ]
        }
      ]
    },
    {
      "cell_type": "markdown",
      "source": [
        "W3A16"
      ],
      "metadata": {
        "id": "sSopkogzmn5j"
      }
    },
    {
      "cell_type": "code",
      "source": [
        "x = float(input(\"Nhập x: \"))\n",
        "\n",
        "down = int(x)\n",
        "\n",
        "up = down if x == down else down + 1\n",
        "\n",
        "nearest = down + (1 if x - down >= 0.5 else 0)\n",
        "\n",
        "print(up, down, nearest)\n"
      ],
      "metadata": {
        "colab": {
          "base_uri": "https://localhost:8080/"
        },
        "id": "4xuw8kKomp_C",
        "outputId": "1a86c3fb-70ac-4e65-fe76-7fc25fe68daf"
      },
      "execution_count": 17,
      "outputs": [
        {
          "output_type": "stream",
          "name": "stdout",
          "text": [
            "Nhập x: 7\n",
            "7 7 7\n"
          ]
        }
      ]
    },
    {
      "cell_type": "markdown",
      "source": [
        "W3A17"
      ],
      "metadata": {
        "id": "33iD55Yqmw_d"
      }
    },
    {
      "cell_type": "code",
      "source": [
        "a = int(input())\n",
        "b = int(input())\n",
        "c = int(input())\n",
        "d = int(input())\n",
        "\n",
        "if b % a != 0:\n",
        "    print(\"No\")\n",
        "else:\n",
        "    q = b // a\n",
        "    if b * q == c and c * q == d:\n",
        "        print(\"Yes\")\n",
        "    else:\n",
        "        print(\"No\")\n"
      ],
      "metadata": {
        "colab": {
          "base_uri": "https://localhost:8080/"
        },
        "id": "RgIVCL92mzCS",
        "outputId": "1f90f2dd-81a1-4b4d-94e3-76d068f259f2"
      },
      "execution_count": 4,
      "outputs": [
        {
          "output_type": "stream",
          "name": "stdout",
          "text": [
            "6\n",
            "7\n",
            "8\n",
            "5\n",
            "No\n"
          ]
        }
      ]
    }
  ]
}